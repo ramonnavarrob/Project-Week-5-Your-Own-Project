{
 "cells": [
  {
   "cell_type": "markdown",
   "metadata": {},
   "source": [
    "# Spotify track features vs Grammy's\n",
    "\n",
    "### Intro of the project\n",
    "\n",
    "This project started by wanting to analyze data from song features. When researching on the topic, I came up with the idea of comparing regular songs vs. awarded winning songs. I wanted to see if the songs that stand out, win the awards because they are different from the rest \"regular songs\" in terms of features.\n",
    "Spotify ranks songs based on 12 different features: duration_ms, key, mode, time_signature, acousticness, danceability, energy, instrumentalness, liveness, loudness, speechiness, valence, tempo. Here you have the link for the full explanation for each feature: https://developer.spotify.com/documentation/web-api/reference/tracks/get-audio-features/\n",
    "\n",
    "### CSV\n",
    "\n",
    "When looking for data, I found a huge dataset containing +160.000 songs from 1921-Present with all the features mentioned before. I'll leave the dataset link here, to save you a lot of time, in case you decide to start a similiar project.\n",
    "Dataset: https://www.kaggle.com/yamaerenay/spotify-dataset-19212020-160k-tracks/discussion/155981\n",
    "The dataset contained the same variables(\"features\") that you can obtain from Spotify API.\n",
    "\n",
    "### Selenium\n",
    "\n",
    "After obtaining my dataset in the form of a csv. I wanted to make sure that i had the songs that won best song of the year in my csv. So i used selenium to scrapp the Grammy website to obtain the names of the winners for Best song of the year for the last 30 years (1990-2020).\n",
    "After having the name of the winners, I looked at the data in my csv and realized that some songs where missing, so I decided to challenge myself and give it a try wit Spotify Api.\n",
    "### API\n",
    "\n",
    "The first thing I did was to look at the documentation and spend a year trying to get authorization, but when I was getting desperate I found a tutorial video that showed an easy way to get the information with fewer steps. With all the information, I used Postman to get the code in a clean and easy way and it let me get the data needed for the songs that were missing in the csv\n",
    "\n",
    "### Data Cleaning\n",
    "\n",
    "Data cleaning it's always tough because data it's not presented in a way that you expected. I had to clean the data for the \"artists\" column because they were presented as double strings within a list and I also had to battle with the names of the songs, because they didn't follow any pattern, some where presented with capital letters, some without, some had numbers...\n",
    "\n",
    "\n",
    "### Statistics\n",
    "\n",
    "Since the topic covered for last week fas Statistics, i wanted to make sure that i had inmplemented it in a correct way within my project. First of all, I  looked at the p value for each feature comparing total songs in the csv versus the songs that won a grammy, and I found that some variables had statistically significance difference. Then I wanated to see how different were the Grammy songs versus the  most popular songs of the 2020, to see if we could predict the next winner for the Best song of the year. I calculated the mean for all the songs that won the Grammy and then I calculated the difference for each feature in all the popular songs ogf the 2020. After having the differences, I squared up the results and I added them together, the songs with the smallest numbers are the ones that statistically are closer to the average of grammy winner songs, but this does not mean that we can predict the winner because music is very diffenent in many ways and music is not science, it is art.\n",
    "\n",
    "### Data Visualization\n",
    "\n",
    "Once I had all my data analyzed, I plotted it in Tableau. I used Moving Charts to give dynamism to my presentation and I also embaded two spotify songs in my charts, which it was new for me. I also compared variables with barcharts between regular songs and grammy winners to see the differences.\n",
    "\n",
    "### Insights\n",
    "\n",
    "The final conclusions of my projects is that the music industry changed a lot in the last decades and our generation is leading the change.\n",
    "I also find it interesting that Spotify give measures to each track but that does not mean that we can predict things."
   ]
  }
 ],
 "metadata": {
  "kernelspec": {
   "display_name": "Python 3",
   "language": "python",
   "name": "python3"
  },
  "language_info": {
   "codemirror_mode": {
    "name": "ipython",
    "version": 3
   },
   "file_extension": ".py",
   "mimetype": "text/x-python",
   "name": "python",
   "nbconvert_exporter": "python",
   "pygments_lexer": "ipython3",
   "version": "3.7.4"
  }
 },
 "nbformat": 4,
 "nbformat_minor": 2
}
