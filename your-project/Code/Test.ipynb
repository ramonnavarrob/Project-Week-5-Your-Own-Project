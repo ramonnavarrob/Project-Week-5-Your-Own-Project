{
 "cells": [
  {
   "cell_type": "code",
   "execution_count": 4,
   "metadata": {},
   "outputs": [],
   "source": [
    "from selenium import webdriver\n",
    "from getpass import getpass\n",
    "from time import sleep"
   ]
  },
  {
   "cell_type": "code",
   "execution_count": 5,
   "metadata": {},
   "outputs": [],
   "source": [
    "url='https://spotifycharts.com/regional/global/weekly/2020-07-17--2020-07-24'\n",
    "driver = webdriver.Chrome(r'C:/Users/ramon/Desktop/chromedriver.exe')\n",
    "driver.get(url)"
   ]
  },
  {
   "cell_type": "code",
   "execution_count": null,
   "metadata": {},
   "outputs": [],
   "source": []
  },
  {
   "cell_type": "code",
   "execution_count": 7,
   "metadata": {},
   "outputs": [],
   "source": [
    "csv = driver.find_element_by_xpath('//*[@id=\"content\"]/div/header/div/a')\n",
    "csv.click()"
   ]
  },
  {
   "cell_type": "code",
   "execution_count": 8,
   "metadata": {},
   "outputs": [],
   "source": [
    "country = driver.find_element_by_xpath('//*[@id=\"content\"]/div/div/div/span/div[1]/div/div/div/div[1]/div')\n",
    "country.click()"
   ]
  },
  {
   "cell_type": "code",
   "execution_count": 9,
   "metadata": {},
   "outputs": [],
   "source": [
    "select = driver.find_element_by_xpath('//*[@id=\"content\"]/div/div/div/span/div[1]/div/div/div/div[1]/ul/li[2]')\n",
    "select.click()"
   ]
  },
  {
   "cell_type": "code",
   "execution_count": 42,
   "metadata": {},
   "outputs": [],
   "source": [
    "csv = driver.find_element_by_xpath('//*[@id=\"content\"]/div/header/div/a')\n",
    "csv.click()"
   ]
  },
  {
   "cell_type": "code",
   "execution_count": null,
   "metadata": {},
   "outputs": [],
   "source": [
    "for i in range(1,30):\n",
    "    select2 = driver.find_element_by_xpath('//*[@id=\"content\"]/div/div/div/span/div[1]/div/div/div/div[1]/div')\n",
    "    select2.click()\n",
    "    sleep(2)\n",
    "    country = driver.find_element_by_xpath(f'//*[@id=\"content\"]/div/div/div/span/div[1]/div/div/div/div[1]/ul/li[{i}]')\n",
    "    country.click()\n",
    "    sleep(2)\n",
    "    select = driver.find_element_by_xpath('//*[@id=\"content\"]/div/div/div/span/div[1]/div/div/div/div[2]/div')\n",
    "    select.click()\n",
    "    sleep(2)\n",
    "    week = driver.find_element_by_xpath('//*[@id=\"content\"]/div/div/div/span/div[1]/div/div/div/div[2]/ul/li[2]')\n",
    "    week.click()\n",
    "    sleep(2)\n",
    "    csv = driver.find_element_by_xpath('//*[@id=\"content\"]/div/header/div/a')\n",
    "    csv.click()\n",
    "    sleep(2)"
   ]
  },
  {
   "cell_type": "code",
   "execution_count": null,
   "metadata": {},
   "outputs": [],
   "source": []
  }
 ],
 "metadata": {
  "kernelspec": {
   "display_name": "Python 3",
   "language": "python",
   "name": "python3"
  },
  "language_info": {
   "codemirror_mode": {
    "name": "ipython",
    "version": 3
   },
   "file_extension": ".py",
   "mimetype": "text/x-python",
   "name": "python",
   "nbconvert_exporter": "python",
   "pygments_lexer": "ipython3",
   "version": "3.7.4"
  }
 },
 "nbformat": 4,
 "nbformat_minor": 2
}
